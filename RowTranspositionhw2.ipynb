{
  "nbformat": 4,
  "nbformat_minor": 0,
  "metadata": {
    "colab": {
      "name": "RowTransposition.ipynb",
      "provenance": [],
      "collapsed_sections": []
    },
    "kernelspec": {
      "name": "python3",
      "display_name": "Python 3"
    },
    "language_info": {
      "name": "python"
    }
  },
  "cells": [
    {
      "cell_type": "markdown",
      "source": [
        "# Learning how to deal with 2-d arrays to implement the Row Transposition cipher"
      ],
      "metadata": {
        "id": "eoZLt4Gd6Wsd"
      }
    },
    {
      "cell_type": "markdown",
      "source": [
        ""
      ],
      "metadata": {
        "id": "fYothFLJ6cr4"
      }
    },
    {
      "cell_type": "code",
      "execution_count": null,
      "metadata": {
        "colab": {
          "base_uri": "https://localhost:8080/"
        },
        "id": "c0vWZBie6Uij",
        "outputId": "72d96874-3556-4c8c-a741-389cf76f9780"
      },
      "outputs": [
        {
          "output_type": "stream",
          "name": "stdout",
          "text": [
            "['4', '3', '1', '2', '5', '6', '7']\n",
            "[4, 3, 1, 2, 5, 6, 7]\n"
          ]
        }
      ],
      "source": [
        "# Let's define a string that serves as our plaintext\n",
        "plaintext = 'attackpostponed'\n",
        "\n",
        "# the first thing is to determine how much padding we need to add to our string\n",
        "# the length of our plaintext should be a multiple of the key length\n",
        "key = '4312567'\n",
        "keylist = list(key)\n",
        "print(keylist)\n",
        "keyint = [int(x) for x in keylist]\n",
        "print(keyint)\n",
        "# Let's find the key length\n",
        "keylen = len(keyint)\n"
      ]
    },
    {
      "cell_type": "markdown",
      "source": [
        "## Now we need to append enough number of 'x' characters to the end of our plaintext\n",
        "## In this case I need to add 6 'x's to my plaintext\n",
        "## you need to be able to calculate the required padding length"
      ],
      "metadata": {
        "id": "BWpQfjZt8_96"
      }
    },
    {
      "cell_type": "code",
      "source": [
        "pad = 6\n",
        "plaintextpadded = plaintext + pad*'x'\n",
        "plaintextpadded = plaintextpadded.upper()\n",
        "print(plaintextpadded)\n",
        "# for convenience, I'll work with the list representaiton of the plaintext string\n",
        "plainlist = list(plaintextpadded)\n",
        "print(plainlist)"
      ],
      "metadata": {
        "colab": {
          "base_uri": "https://localhost:8080/"
        },
        "id": "_O2hGWt99lTd",
        "outputId": "e7df8569-ba99-4c06-b17d-e6f2f6da7895"
      },
      "execution_count": null,
      "outputs": [
        {
          "output_type": "stream",
          "name": "stdout",
          "text": [
            "ATTACKPOSTPONEDXXXXXX\n",
            "['A', 'T', 'T', 'A', 'C', 'K', 'P', 'O', 'S', 'T', 'P', 'O', 'N', 'E', 'D', 'X', 'X', 'X', 'X', 'X', 'X']\n"
          ]
        }
      ]
    },
    {
      "cell_type": "markdown",
      "source": [
        "### How to represent matrices in Python.\n",
        "### there are libraries that allow you to do a lot of operations with matrices.\n",
        "### However a simple way is to use list of lists\n"
      ],
      "metadata": {
        "id": "E_q8-lHT-QJM"
      }
    },
    {
      "cell_type": "code",
      "source": [
        "# example how to represent 3x3 matrix [ 11 22 33 \n",
        "#                                       21  4  5\n",
        "#                                       -7  3  10]\n",
        "matrix = [[11, 22, 33], [21,4,5], [-7, 3, 10]]\n",
        "# If I want access element 22 at row 0 and column 1:\n",
        "print(matrix[0][1])\n",
        "# So we want to convert our plainlist into a matrix with 7 columns\n",
        "# ['A', 'T', 'T', 'A', 'C', 'K', 'P', 'O', 'S', 'T', 'P', 'O', 'N', 'E', 'D', 'X', 'X', 'X', 'X', 'X', 'X', 'X']\n",
        "# [['A', 'T', 'T', 'A', 'C', 'K', 'P'],['O', 'S', 'T', 'P', 'O', 'N', 'E'],['D', 'X', 'X', 'X', 'X', 'X', 'X', 'X']]"
      ],
      "metadata": {
        "colab": {
          "base_uri": "https://localhost:8080/"
        },
        "id": "dSaiK1mC-eld",
        "outputId": "82bf94ee-1a18-452b-9e83-cd58ba38b651"
      },
      "execution_count": null,
      "outputs": [
        {
          "output_type": "stream",
          "name": "stdout",
          "text": [
            "22\n"
          ]
        }
      ]
    },
    {
      "cell_type": "code",
      "source": [
        "# Let's assume that we've built our matrix\n",
        "mat = [['A', 'T', 'T', 'A', 'C', 'K', 'P'],['O', 'S', 'T', 'P', 'O', 'N', 'E'],['D', 'X', 'X', 'X', 'X', 'X', 'X', 'X']]\n",
        "# Now we need to take elements from the columns specified by the key\n",
        "# for example for our key of [4, 3, 1, 2, 5, 6, 7], you need to pick the 3rd element of each row first\n",
        "# i.e., mat[0][2]+mat[1][2]+mat[2][2]+mat[0][3]+mat[1][3]+mat[2][3] +....\n",
        "\n"
      ],
      "metadata": {
        "id": "KeqmGg1o_3vT"
      },
      "execution_count": null,
      "outputs": []
    },
    {
      "cell_type": "code",
      "source": [
        "# how can we find which column should be read first ad which column next and so on?\n",
        "# i.e., how do we find the locatoins of 1,2,3,4,..,7 in the keylist?\n",
        "print(keyint)\n",
        "import numpy\n",
        "orderlist = numpy.argsort(keylist)\n",
        "print(orderlist)"
      ],
      "metadata": {
        "colab": {
          "base_uri": "https://localhost:8080/"
        },
        "id": "9w7sPcidcPGd",
        "outputId": "0c350c6e-f80d-4025-994a-3f7767cdcbba"
      },
      "execution_count": null,
      "outputs": [
        {
          "output_type": "stream",
          "name": "stdout",
          "text": [
            "[4, 3, 1, 2, 5, 6, 7]\n",
            "[2 3 1 0 4 5 6]\n"
          ]
        }
      ]
    },
    {
      "cell_type": "markdown",
      "source": [
        "### the ordered list above can be used in a FOR loop to pick the columns according to the order defined by the key.\n",
        "### Then for each column, you can have another FOR loop to pick the letters on the column and on rows 0 to the last row.\n",
        "###for col in orderlist:\n",
        "###  for row in range(maxrow):\n",
        "###     pick the letter from that position an append to the ciphertext"
      ],
      "metadata": {
        "id": "mrLIudQgcveo"
      }
    }
  ]
}