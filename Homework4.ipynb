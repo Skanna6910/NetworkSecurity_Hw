{
  "nbformat": 4,
  "nbformat_minor": 0,
  "metadata": {
    "colab": {
      "provenance": [],
      "authorship_tag": "ABX9TyNW0Yb289gBnkj7cEQVlMD5",
      "include_colab_link": true
    },
    "kernelspec": {
      "name": "python3",
      "display_name": "Python 3"
    },
    "language_info": {
      "name": "python"
    }
  },
  "cells": [
    {
      "cell_type": "markdown",
      "metadata": {
        "id": "view-in-github",
        "colab_type": "text"
      },
      "source": [
        "<a href=\"https://colab.research.google.com/github/Skanna6910/NetworkSecurity_Hw/blob/main/Homework4.ipynb\" target=\"_parent\"><img src=\"https://colab.research.google.com/assets/colab-badge.svg\" alt=\"Open In Colab\"/></a>"
      ]
    },
    {
      "cell_type": "code",
      "execution_count": null,
      "metadata": {
        "colab": {
          "base_uri": "https://localhost:8080/"
        },
        "id": "LtJSAAtAaO3i",
        "outputId": "431eeeea-9307-4d88-d8c3-18dad116394e"
      },
      "outputs": [
        {
          "output_type": "stream",
          "name": "stdout",
          "text": [
            "[71, 69, 53]\n",
            "[57, 64, 67]\n"
          ]
        }
      ],
      "source": [
        "\n",
        "UID='118406473'\n",
        "First_Name='Suprajha'\n",
        "Last_Name='Kanna'\n",
        "\n",
        "from Crypto.Cipher import AES\n",
        "#from Crypto.Cipher import DES\n",
        "from Crypto.Util.Padding import pad, unpad\n",
        "from bitstring import BitArray\n",
        "\n",
        "def padding(ib,size):\n",
        "  if(len(ib)<size):\n",
        "     ib = pad(ib, size)\n",
        "     return ib\n",
        "\n",
        "block=16\n",
        "\n",
        "def AESEncryptn(ib, k):\n",
        "  ib = padding(ib,16)\n",
        "  cipher = AES.new(k, AES.MODE_ECB)\n",
        " #print(len(ib))\n",
        "  CT = cipher.encrypt(ib)\n",
        "  return CT\n",
        "\n",
        "def AESDecryptn(ib, k):\n",
        "  decipher = AES.new(k, AES.MODE_ECB)\n",
        "  PT =unpad(decipher.decrypt(ib),block)\n",
        "  return PT\n",
        "\n",
        "#def des_enc(inputblock, key):\n",
        "  #inputblock = padding(inputblock,8)\n",
        "  #des_enc = DES.new(key, DES.MODE_ECB)\n",
        "  #print(len(inputblock))\n",
        "  #cipher_text = des_enc.encrypt(inputblock)\n",
        "  #return cipher_text\n",
        "\n",
        "def invertbit(ib, b):\n",
        "  bin_inputblock = [a for a in (''.join([bin(int(b))[2:].zfill(8) for b in ib]).zfill(16))]\n",
        "  if bin_inputblock[b] == '1':\n",
        "    bin_inputblock[b]='0'\n",
        "  else:\n",
        "    bin_inputblock[b]='1'\n",
        "  new_bin_inputblock = [''.join(bin_inputblock[i:i+8]) for i in range(0,len(bin_inputblock), 8)]\n",
        "  lst = [ int(i, base=2) for i in new_bin_inputblock]\n",
        "  return bytes(lst)\n",
        "\n",
        "def findbitdiff(originalcipher, newcipher):\n",
        "  orgcipher_L = ''.join([a for a in (''.join([bin(int(b))[2:].zfill(8) for b in originalcipher]).zfill(16))])\n",
        "  nwcipher_L = ''.join([a for a in (''.join([bin(int(b))[2:].zfill(8) for b in newcipher]).zfill(16))])\n",
        "  d = int(orgcipher_L, 2)^int(nwcipher_L,2)\n",
        "  db= bin(d)[2:].zfill(len(nwcipher_L))\n",
        "  dn = list(db).count(\"1\")\n",
        "  return dn\n",
        "\n",
        "def aes_input_av_test(ib, k, bitlist):\n",
        "    ##print(pad_ib)\n",
        "    diff_list = []\n",
        "    originalcipher = AESEncryptn(ib, k)\n",
        "   # print(originalcipher)\n",
        "\n",
        "    for b in bitlist:\n",
        "        ni = invertbit(ib, b)\n",
        "        newcipher = AESEncryptn(ni, k)\n",
        "        numbitdifferences = findbitdiff(originalcipher, newcipher)\n",
        "        diff_list.append(numbitdifferences)\n",
        "    return diff_list\n",
        "\n",
        "def aes_key_av_test(ib, k, bitlist):\n",
        "   # print(pad_ib)\n",
        "    diff_list = []\n",
        "    originalcipher = AESEncryptn(ib, k)\n",
        "    for b in bitlist:\n",
        "        newinput = invertbit(k, b)\n",
        "        newcipher = AESEncryptn(ib, newinput)\n",
        "        numbitdifferences = findbitdiff(originalcipher, newcipher)\n",
        "        diff_list.append(numbitdifferences)\n",
        "    return diff_list\n",
        "\n",
        "if __name__ == \"__main__\":\n",
        "  ib= b'isthis16bytes?'\n",
        "  k=b'veryverylongkey!'\n",
        "  bitlist=[5, 29, 38]\n",
        "  aes_input_av_test_string=aes_input_av_test(ib, k, bitlist)\n",
        "  print(aes_input_av_test_string)\n",
        "  aes_key_av_test_string=aes_key_av_test(ib, k, bitlist)\n",
        "  print(aes_key_av_test_string)\n"
      ]
    }
  ]
}